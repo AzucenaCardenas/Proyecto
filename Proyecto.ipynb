{
  "metadata": {
    "kernelspec": {
      "name": "python",
      "display_name": "Python (Pyodide)",
      "language": "python"
    },
    "language_info": {
      "codemirror_mode": {
        "name": "python",
        "version": 3
      },
      "file_extension": ".py",
      "mimetype": "text/x-python",
      "name": "python",
      "nbconvert_exporter": "python",
      "pygments_lexer": "ipython3",
      "version": "3.8"
    }
  },
  "nbformat_minor": 4,
  "nbformat": 4,
  "cells": [
    {
      "cell_type": "markdown",
      "source": "# Jupiter Notebook Azucena Cardenas",
      "metadata": {}
    },
    {
      "cell_type": "markdown",
      "source": "## Introducción\nBienvenido a este cuaderno de ejercicios sobre ciencia de datos. En este cuaderno, exploraremos varios conceptos y técnicas relacionadas con la ciencia de datos utilizando Python y sus bibliotecas. ¡Comencemos!",
      "metadata": {}
    },
    {
      "cell_type": "markdown",
      "source": "## Lenguajes de la Ciencia de Datos\n1. Python\n2. R\n3. SQL",
      "metadata": {}
    },
    {
      "cell_type": "markdown",
      "source": "## Bibliotecas de Ciencia de Datos\n- Pandas\n- NumPy\n- Matplotlib\n- Seaborn\n- Scikit-learn",
      "metadata": {}
    },
    {
      "cell_type": "markdown",
      "source": "## Herramientas de Ciencia de Datos\n\n| Herramienta     | Descripción                           |\n|-----------------|---------------------------------------|\n| Python          | Lenguaje de programación              |\n| Pandas          | Manipulación de datos en tablas      |\n| NumPy           | Operaciones numéricas eficientes     |\n| Matplotlib      | Visualización de datos                |\n| Scikit-learn    | Aprendizaje automático                |",
      "metadata": {}
    },
    {
      "cell_type": "markdown",
      "source": "## Ejemplos de Expresiones Aritméticas\nLas expresiones aritméticas pueden ser simples o complejas. Algunos ejemplos incluyen:\n\n- Suma: 3 + 5\n- Resta: 10 - 7\n- Multiplicación: 4 * 6\n- División: 20 / 4",
      "metadata": {}
    },
    {
      "cell_type": "code",
      "source": "# Multiplicación y suma de números\na = 5\nb = 3\nmultiplicacion = a * b\nsuma = a + b\nprint(\"Multiplicación:\", multiplicacion)\nprint(\"Suma:\", suma)",
      "metadata": {
        "trusted": true
      },
      "outputs": [
        {
          "name": "stdout",
          "text": "Multiplicación: 15\nSuma: 8\n",
          "output_type": "stream"
        }
      ],
      "execution_count": 2
    },
    {
      "cell_type": "code",
      "source": "# Conversión de minutos en horas\nminutos = 150\nhoras = minutos / 60\nprint(\"Horas:\", horas)",
      "metadata": {
        "trusted": true
      },
      "outputs": [
        {
          "name": "stdout",
          "text": "Horas: 2.5\n",
          "output_type": "stream"
        }
      ],
      "execution_count": 3
    },
    {
      "cell_type": "code",
      "source": "# Listar Objetivos\nobjetivos = [\"Aprender Python\", \"Dominar Pandas\", \"Crear modelos de Machine Learning\"]\nfor objetivo in objetivos:\n    print(objetivo)",
      "metadata": {
        "trusted": true
      },
      "outputs": [
        {
          "name": "stdout",
          "text": "Aprender Python\nDominar Pandas\nCrear modelos de Machine Learning\n",
          "output_type": "stream"
        }
      ],
      "execution_count": 4
    },
    {
      "cell_type": "markdown",
      "source": "## Autor\nEste cuaderno fue creado por Azucena Cardenas.",
      "metadata": {}
    },
    {
      "cell_type": "code",
      "source": "",
      "metadata": {
        "trusted": true
      },
      "outputs": [],
      "execution_count": null
    }
  ]
}